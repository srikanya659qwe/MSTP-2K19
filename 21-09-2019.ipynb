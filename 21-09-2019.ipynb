{
 "cells": [
  {
   "cell_type": "markdown",
   "metadata": {},
   "source": [
    "#### Advanced problems\n",
    "- function to check given number is prime or not\n",
    "- function to check given number is perfect or not\n",
    "- function to print factorial of a given number\n",
    "- function to check prime numbers in given range\n",
    "- function to check perfect numbers in given range"
   ]
  },
  {
   "cell_type": "code",
   "execution_count": 4,
   "metadata": {},
   "outputs": [
    {
     "name": "stdout",
     "output_type": "stream",
     "text": [
      "8\n",
      "not a prime\n"
     ]
    }
   ],
   "source": [
    "n=int(input())\n",
    "def primeof(n):\n",
    "    fc=0\n",
    "    for i in range(1,n+1):\n",
    "        if n%i==0:\n",
    "            fc=fc+1\n",
    "    if fc==2:\n",
    "        print(\"prime\")\n",
    "    else:\n",
    "        print(\"not a prime\")\n",
    "primeof(n)"
   ]
  },
  {
   "cell_type": "code",
   "execution_count": 7,
   "metadata": {},
   "outputs": [
    {
     "name": "stdout",
     "output_type": "stream",
     "text": [
      "1\n",
      "not a perfect\n"
     ]
    }
   ],
   "source": [
    "n=int(input())\n",
    "def perfectof(n):\n",
    "    s=0\n",
    "    for i in range(1,n):\n",
    "        if n%i==0:\n",
    "            s=s+i\n",
    "    if s==n:\n",
    "        print(\"perfect\")\n",
    "    else:\n",
    "        print(\"not a perfect\")\n",
    "perfectof(n)"
   ]
  },
  {
   "cell_type": "code",
   "execution_count": 9,
   "metadata": {},
   "outputs": [
    {
     "name": "stdout",
     "output_type": "stream",
     "text": [
      "10\n",
      "3628800\n"
     ]
    }
   ],
   "source": [
    "n=int(input())\n",
    "def factorial(n):\n",
    "    f=1\n",
    "    for i in range(1,n+1):\n",
    "        f=f*i\n",
    "    print(f)\n",
    "factorial(n)"
   ]
  },
  {
   "cell_type": "code",
   "execution_count": 12,
   "metadata": {},
   "outputs": [
    {
     "name": "stdout",
     "output_type": "stream",
     "text": [
      "1\n",
      "100\n",
      "2 3 5 7 11 13 17 19 23 29 31 37 41 43 47 53 59 61 67 71 73 79 83 89 97 "
     ]
    }
   ],
   "source": [
    "a=int(input())\n",
    "b=int(input())\n",
    "def primerangeof(a,b):\n",
    "    for i in range(a,b+1):\n",
    "        c=0\n",
    "        for j in range(1,i+1):\n",
    "            if i%j==0:\n",
    "                c=c+1\n",
    "        if c==2:\n",
    "            print(i,end=\" \")\n",
    "primerangeof(a,b)"
   ]
  },
  {
   "cell_type": "code",
   "execution_count": 23,
   "metadata": {},
   "outputs": [
    {
     "name": "stdout",
     "output_type": "stream",
     "text": [
      "1\n",
      "100\n",
      "6 28 "
     ]
    }
   ],
   "source": [
    "a=int(input())\n",
    "b=int(input())\n",
    "def perfectrangeof(a,b):\n",
    "    for i in range (a,b+1):\n",
    "        s=0\n",
    "        for j in range(1,i):\n",
    "            if i%j==0:\n",
    "                s=s+j\n",
    "        if s==i:\n",
    "            print(i,end=\" \")\n",
    "perfectrangeof(a,b)\n",
    "        "
   ]
  },
  {
   "cell_type": "markdown",
   "metadata": {},
   "source": [
    "### Advanced problems in strings\n",
    "- Input = 'python,programming'\n",
    "\n",
    " Output = ['python','programming']\n",
    "- Input = 'PyThOn PrOgRaMmInG'\n",
    "\n",
    " Output = PTOPORMIG  yhnrgamn \n",
    "- Input = 'hello123'\n",
    "\n",
    " Output = hello,123\n",
    "- Input = 'python67programming98'\n",
    "\n",
    " Output = 6798\n",
    "- Input = 'hello23adit78'\n",
    "\n",
    " Output = ['23','78']"
   ]
  },
  {
   "cell_type": "code",
   "execution_count": 35,
   "metadata": {},
   "outputs": [
    {
     "name": "stdout",
     "output_type": "stream",
     "text": [
      "['python', 'programming']\n"
     ]
    }
   ],
   "source": [
    "s='python,programming'\n",
    "print(s.split(','))"
   ]
  },
  {
   "cell_type": "code",
   "execution_count": 36,
   "metadata": {},
   "outputs": [
    {
     "name": "stdout",
     "output_type": "stream",
     "text": [
      "PTOPORMIG yhnrgamn\n"
     ]
    }
   ],
   "source": [
    "s = 'PyThOn PrOgRaMmInG'\n",
    "s1,s2='',''\n",
    "for i in s:\n",
    "    if i.isupper():\n",
    "        s1=s1+i\n",
    "    elif i.islower():\n",
    "        s2=s2+i\n",
    "print(s1,s2)"
   ]
  },
  {
   "cell_type": "code",
   "execution_count": 37,
   "metadata": {},
   "outputs": [
    {
     "name": "stdout",
     "output_type": "stream",
     "text": [
      "hello,123\n"
     ]
    }
   ],
   "source": [
    "s = 'hello123'\n",
    "alp=''\n",
    "dig=''\n",
    "for i in s:\n",
    "    if i.isalpha():\n",
    "        alp=alp+i\n",
    "    elif i.isdigit():\n",
    "        dig=dig+i\n",
    "print(alp+','+dig)"
   ]
  },
  {
   "cell_type": "code",
   "execution_count": 38,
   "metadata": {},
   "outputs": [
    {
     "name": "stdout",
     "output_type": "stream",
     "text": [
      "6798\n"
     ]
    }
   ],
   "source": [
    "s = 'python67programming98'\n",
    "new=''\n",
    "for i in s:\n",
    "    if i.isdigit():\n",
    "        new=new+i\n",
    "print(new)"
   ]
  },
  {
   "cell_type": "code",
   "execution_count": 39,
   "metadata": {},
   "outputs": [
    {
     "name": "stdout",
     "output_type": "stream",
     "text": [
      "['23', '78']\n"
     ]
    }
   ],
   "source": [
    "s = 'hello23adit78'\n",
    "new=''\n",
    "for i in s:\n",
    "    if i.isdigit():\n",
    "        new=new+i\n",
    "    else:\n",
    "        new=new+' '\n",
    "print(new.split())"
   ]
  },
  {
   "cell_type": "code",
   "execution_count": null,
   "metadata": {},
   "outputs": [],
   "source": []
  },
  {
   "cell_type": "code",
   "execution_count": null,
   "metadata": {},
   "outputs": [],
   "source": []
  }
 ],
 "metadata": {
  "kernelspec": {
   "display_name": "Python 3",
   "language": "python",
   "name": "python3"
  },
  "language_info": {
   "codemirror_mode": {
    "name": "ipython",
    "version": 3
   },
   "file_extension": ".py",
   "mimetype": "text/x-python",
   "name": "python",
   "nbconvert_exporter": "python",
   "pygments_lexer": "ipython3",
   "version": "3.7.3"
  }
 },
 "nbformat": 4,
 "nbformat_minor": 2
}
