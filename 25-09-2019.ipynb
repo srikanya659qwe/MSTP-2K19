{
 "cells": [
  {
   "cell_type": "markdown",
   "metadata": {},
   "source": [
    "### Machine Learning\n",
    "- it is a application of artificial intelligence\n",
    "- decision making is available based on some of machine learning models\n"
   ]
  },
  {
   "cell_type": "markdown",
   "metadata": {},
   "source": [
    "### prediction\n",
    "- Labelld Data - Specifying I/O\n",
    "      we have to define both inputs and outpus\n",
    "         3 -> 31\n",
    "         9 ->91\n",
    "         6 ->61\n",
    "         \n",
    "- Supervised Learning:\n",
    "     give both questions and answers machine will automatically predicts that        inputs and gives outputs\n",
    "        - classification:\n",
    "        - Regression:\n",
    "- Unsupervised Learning:\n",
    "   - information that is neither classified nor labeled and allowing the          - algorithm to act on that information without guidance.\n",
    "   - Unsupervised learning algorithms can perform more complex processing            tasks than supervised learning systems.\n",
    "- clustering:\n",
    "  - 1 2 3 4 5 6 7 8 9 \n",
    "     even: 2 4 6 8 \n",
    "     odd:  1 3 5 7 \n",
    "### ml techniques:\n",
    "- supervised(quantitative-outcome is defined)\n",
    "- unsupervised(qualitative-outcome is not defined)\n",
    "- reinforcement(based on feedback(+ve,-ve))"
   ]
  },
  {
   "cell_type": "markdown",
   "metadata": {},
   "source": [
    "### Machine learning processing:\n",
    "- get data from resources\n",
    "- clean and prepare and manipulate data\n",
    "- train model\n",
    "- test data\n",
    "- improve\n",
    "### Librarie using ml:\n",
    "- pandas(data analysis)\n",
    "- numpy(preprocessing)\n",
    "- matplotlib(visualization)\n",
    "- scikit learn\n",
    "- tensorflow\n",
    "        "
   ]
  },
  {
   "cell_type": "markdown",
   "metadata": {},
   "source": [
    "#### Reinforcement learning:\n",
    "- Decision making based on feedback(Positive, Negative)\n",
    "- Applications:\n",
    "    - Game Playing\n",
    "        - Deep Mind\n",
    "        - AlphaGo\n",
    "    - Robotics\n",
    "- different hand writing styles : supervised learning"
   ]
  },
  {
   "cell_type": "code",
   "execution_count": null,
   "metadata": {},
   "outputs": [],
   "source": []
  }
 ],
 "metadata": {
  "kernelspec": {
   "display_name": "Python 3",
   "language": "python",
   "name": "python3"
  },
  "language_info": {
   "codemirror_mode": {
    "name": "ipython",
    "version": 3
   },
   "file_extension": ".py",
   "mimetype": "text/x-python",
   "name": "python",
   "nbconvert_exporter": "python",
   "pygments_lexer": "ipython3",
   "version": "3.7.3"
  }
 },
 "nbformat": 4,
 "nbformat_minor": 2
}
